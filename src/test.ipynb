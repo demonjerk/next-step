{
 "cells": [
  {
   "cell_type": "code",
   "execution_count": 24,
   "id": "initial_id",
   "metadata": {
    "collapsed": true,
    "ExecuteTime": {
     "end_time": "2023-12-08T09:34:04.458605Z",
     "start_time": "2023-12-08T09:34:04.456748Z"
    }
   },
   "outputs": [],
   "source": [
    "clues = (((1, 1), (4,), (1, 1, 1), (3,), (1,)), ((1,), (2,), (3,), (2, 1), (4,)))\n",
    "height = len(clues[1])\n",
    "width = len(clues[0])\n",
    "grids = [[None for _ in range(width)] for _ in range(height)]"
   ]
  },
  {
   "cell_type": "code",
   "execution_count": 20,
   "outputs": [],
   "source": [
    "def print_grids(grids):\n",
    "    for row in grids:\n",
    "        for column in row:\n",
    "            if column is None:\n",
    "                print(' ' + ', ', end='')\n",
    "            elif column == 0:\n",
    "                print('0' + ', ', end='')\n",
    "            else:\n",
    "                print('1' + ', ', end='')\n",
    "        print()"
   ],
   "metadata": {
    "collapsed": false,
    "ExecuteTime": {
     "end_time": "2023-12-08T09:33:41.096398Z",
     "start_time": "2023-12-08T09:33:41.088079Z"
    }
   },
   "id": "7c791c6edc450540"
  },
  {
   "cell_type": "code",
   "execution_count": 21,
   "outputs": [
    {
     "name": "stdout",
     "output_type": "stream",
     "text": [
      " ,  ,  ,  ,  , \n",
      " ,  ,  ,  ,  , \n",
      " ,  ,  ,  ,  , \n",
      " ,  ,  ,  ,  , \n",
      " ,  ,  ,  ,  , \n"
     ]
    }
   ],
   "source": [
    "print_grids(grids)"
   ],
   "metadata": {
    "collapsed": false,
    "ExecuteTime": {
     "end_time": "2023-12-08T09:33:42.779841Z",
     "start_time": "2023-12-08T09:33:42.776938Z"
    }
   },
   "id": "a17368293220a085"
  },
  {
   "cell_type": "code",
   "execution_count": 25,
   "outputs": [
    {
     "data": {
      "text/plain": "(3,)"
     },
     "execution_count": 25,
     "metadata": {},
     "output_type": "execute_result"
    }
   ],
   "source": [
    "clue = clues[0][3]\n",
    "clue"
   ],
   "metadata": {
    "collapsed": false,
    "ExecuteTime": {
     "end_time": "2023-12-08T09:34:07.088676Z",
     "start_time": "2023-12-08T09:34:07.083460Z"
    }
   },
   "id": "7c13b9afd56fe4ad"
  },
  {
   "cell_type": "code",
   "execution_count": 28,
   "outputs": [],
   "source": [
    "# 纵列处理方式1\n",
    "# 构造滑块的活动范围，包括黑块及白块\n",
    "column_sliders = [[] for _ in range(len(clue) * 2 - 1)]\n",
    "start = 0 # 用以表示滑块的初始位置\n",
    "end = 0 # 用以表示滑块的结束位置\n",
    "index = 0 # 用以表示滑块的索引\n",
    "while True:\n",
    "    length = clue[index]\n",
    "    end = start + length - 1\n",
    "    temp_slider = ['black', [[start, end]]]\n",
    "    column_sliders[index * 2] = temp_slider\n",
    "    if index == len(clue) - 1:\n",
    "        break\n",
    "    index += 1\n",
    "    start = end + 2\n",
    "used_length = end + 1\n",
    "remaining_length = height - used_length\n",
    "for sliders in column_sliders:\n",
    "    if sliders[0] == 'black':\n",
    "        for extension_length in range(1, remaining_length + 1):\n",
    "            temp_slider = [sliders[1][0][0] + extension_length, sliders[1][0][1] + extension_length]\n",
    "            sliders[1].append(temp_slider)"
   ],
   "metadata": {
    "collapsed": false,
    "ExecuteTime": {
     "end_time": "2023-12-08T09:47:52.165556Z",
     "start_time": "2023-12-08T09:47:52.161715Z"
    }
   },
   "id": "56fb693a27006257"
  },
  {
   "cell_type": "code",
   "execution_count": 29,
   "outputs": [
    {
     "data": {
      "text/plain": "[['black', [[0, 2], [1, 3], [2, 4]]]]"
     },
     "execution_count": 29,
     "metadata": {},
     "output_type": "execute_result"
    }
   ],
   "source": [
    "column_sliders"
   ],
   "metadata": {
    "collapsed": false,
    "ExecuteTime": {
     "end_time": "2023-12-08T09:47:53.108380Z",
     "start_time": "2023-12-08T09:47:53.102439Z"
    }
   },
   "id": "1465a749ed043c7f"
  },
  {
   "cell_type": "code",
   "execution_count": null,
   "outputs": [],
   "source": [
    "# 纵列监察\n",
    "# 设置一个列候选集合，用以监察是否有格子可以确定\n",
    "column_candidates = [{} for _ in range(height)]\n",
    "# 遍历每个slider\n",
    "# 先是监察滑块是否可以存在\n",
    "for sliders in column_sliders:\n",
    "    # 遍历每个滑块的活动范围\n",
    "    for slider in sliders[1]:\n",
    "        # 首先监察两端是否不为1\n",
    "        ...\n",
    "        # 然后监察中间是否有0\n",
    "        ...\n",
    "        # 合格后，给活动范围内的格子的候选添加1\n",
    "        ...\n",
    "# 根据候选集合，监察是否有格子可以确定\n",
    "..."
   ],
   "metadata": {
    "collapsed": false
   },
   "id": "bca51580bc117c29"
  },
  {
   "cell_type": "code",
   "execution_count": 13,
   "outputs": [
    {
     "data": {
      "text/plain": "(2, 1)"
     },
     "execution_count": 13,
     "metadata": {},
     "output_type": "execute_result"
    }
   ],
   "source": [
    "clue = clues[1][3]\n",
    "clue"
   ],
   "metadata": {
    "collapsed": false,
    "ExecuteTime": {
     "end_time": "2023-12-06T06:59:39.803768Z",
     "start_time": "2023-12-06T06:59:39.790705Z"
    }
   },
   "id": "93e75b2c16392705"
  },
  {
   "cell_type": "code",
   "execution_count": 14,
   "outputs": [],
   "source": [
    "row_grid = [None, 1, 0, None, None]"
   ],
   "metadata": {
    "collapsed": false,
    "ExecuteTime": {
     "end_time": "2023-12-06T07:00:57.954596Z",
     "start_time": "2023-12-06T07:00:57.948193Z"
    }
   },
   "id": "1ed223e3f5a3accb"
  },
  {
   "cell_type": "code",
   "execution_count": 15,
   "outputs": [],
   "source": [
    "row_sliders = [[[0, 1], [1, 2]], [[3, 3], [4, 4]]]"
   ],
   "metadata": {
    "collapsed": false,
    "ExecuteTime": {
     "end_time": "2023-12-06T07:04:48.707217Z",
     "start_time": "2023-12-06T07:04:48.702643Z"
    }
   },
   "id": "e39b57302c6f40c3"
  },
  {
   "cell_type": "code",
   "execution_count": null,
   "outputs": [],
   "source": [
    "for sliders in row_sliders:\n",
    "    for slider in sliders:\n",
    "        "
   ],
   "metadata": {
    "collapsed": false
   },
   "id": "5bbbda814f0d9f10"
  }
 ],
 "metadata": {
  "kernelspec": {
   "display_name": "Python 3",
   "language": "python",
   "name": "python3"
  },
  "language_info": {
   "codemirror_mode": {
    "name": "ipython",
    "version": 2
   },
   "file_extension": ".py",
   "mimetype": "text/x-python",
   "name": "python",
   "nbconvert_exporter": "python",
   "pygments_lexer": "ipython2",
   "version": "2.7.6"
  }
 },
 "nbformat": 4,
 "nbformat_minor": 5
}
